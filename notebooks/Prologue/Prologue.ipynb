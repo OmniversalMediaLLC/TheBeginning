{
 "cells": [
  {
   "cell_type": "markdown",
   "id": "d13c906f-c702-4a1b-8c76-b23a0c2cd8ec",
   "metadata": {},
   "source": [
    "# Prologue – Complete Edits\n",
    "\n",
    "> \"The End was Set  \n",
    "> We all were There  \n",
    "> Before, when all that is was yet  \n",
    "> And so We watched  \n",
    "> As nothing stopped  \n",
    "> The Beginning, where We all met\"\n",
    "\n",
    "---\n",
    "\n",
    "It was quite peculiar that *this* woman—of all people—just so happened to be in *this* place, at *this* time, if only for the very simple—yet quite inexplicable—fact she hadn't yet been born, and wouldn't for another five months. Perhaps even more unexplainable was the fact that not only was she fully grown, but she also possessed the knowledge gained from countless thousands of past incarnations. But none of that was relevant at the moment. There *were* more pressing issues at hand. There was no time to waste arguing the semantics of escaping time loops, and after all—she was not your average woman anyway.  \n",
    "The mystery of her presence was quite unimportant in retrospect. How she had gotten there, inconsequential. All that mattered was she *had* arrived, and so had they. He would be arriving soon, and things had best be in place before he did. Everything *must* be in order before he appeared—for indeed the world *had* been awaiting his return for a very long time.  \n",
    "Things were taking place that would soon affect the very framework of reality, touching every portion of existence. Nothing would be the same. Thus was the topic of conversation this night between three key individuals.\n",
    "\n",
    "---\n",
    "\n",
    "> \"You do realize, of course, just what this plan of yours means?\" the woman asked sternly, gazing out of the window as lightning crashed all around. The storm inched ever closer to them.  \n",
    "> \"I know of *no other* option... The Connection *must* be made,\" replied the green-eyed man, his voice detached and with a somewhat fearful tone.  \n",
    "> \"I'm afraid this has become something far more demanding than any of us ever dreamed,\" the man in the chair said. He sat calmly in a recliner nearby, smoking a long pipe, his face wrinkled with concern.  \n",
    "\n",
    "They both loved him so deeply. The three of them had been together for so long—fighting the same foe—and while she might not have been prone to showing her weakness before mere mortals, he knew he wasn't alone. They both found it hard to believe just what the green-eyed man was considering. So much pain, yet none of it seemed necessary. Then again, no one had asked their opinion.  \n",
    "\n",
    "After a long pause, the woman said in a contemplative tone, \"There simply *must* be another way! He shouldn't have to...\" She stopped suddenly, realizing what she'd nearly said. The words had slipped out, unbidden.  \n",
    "\n",
    "\"*That* is precisely why he *must*!\" came a fourth voice, one *very* familiar to all three.  \n",
    "\n",
    "Their eyes turned in unison towards the darkened corner the intruder occupied. This was supposed to have been a private meeting. How had he found them? The woman, whose presence before had been a calming and peaceful emanation—her attempt at helping her two friends cope—suddenly turned a darker shade. Within an instant her anger kindled to such a degree her companions began trembling with an unearthly and holy fear. Her ferocity seemed to shake the very fabric of reality, fracturing the air around them. None of this seemed to frighten the intruder in the least. He just stared back at her, a serene look upon his face as he strolled closer into view.  \n",
    "\n",
    "\"How *dare* you!\" she roared, the lighthouse shuddering in her wake. \"How dare you bring your nonsense *here* of all places! This is more than a man's *life* we're talking about, not some whimsical concept in your befuddled mind! A man who just so happens to be a very *dear* friend of mine. Yet *still* you've come uninvited, and with you brought the audacity to spout off your insane ramblings and—as always—speaking with that same venomous tone as you always do, as if *we* are the uninformed!\"  \n",
    "\n",
    "He said nothing in retort, but instead looked deeply into her eyes. The intruder had appeared silently. He hadn't used a door. In fact, he didn't even climb the stairs to the top of the lighthouse where the three had gathered, and indeed, he had *not* been invited. But such things didn't matter, and that was yet another reason he remained unafraid of this dreadfully perilous woman. They all three needed him, and they knew it—regardless of how ill-accepted his presence was.  \n",
    "\n",
    "\"...But... he's right...\" said the man in the chair, a forlorn look upon his face as he paused in his smoking.  \n",
    "\"Indeed I am.\" The intruder glared menacingly at the woman as he strolled further into view. \"I would *think* one of *The Preori* would *know better* than to confuse her *emotions* with the *facts*! Perhaps, my dear, it's simply your humanity *finally* shining through?\" he asked with a slight smile forming upon his face, eyes twinkling in the dim light. He winked surreptitiously at the man in the chair.  \n",
    "\n",
    "The woman turned upon him again, but before she could unleash her rage, she was interrupted.  \n",
    "\n",
    "\"Listen, you two...\" the green-eyed man paused thoughtfully. \"It is *my* choice. You know he is already on his way—even now—we don't have *time* to sit around arguing. We know what *must* be done. There's only one way to ensure *The Connection* is made. Otherwise, they'll delay it for as long as they can. You know how they work. *The Game* is rigged, and I know it goes against everything we stand for, but *if* we're going to win this war...\" He paused again, as if seeking the courage to continue on. \"And we *must*... We're going to *have* to get our hands dirty. There's simply no way around it.\"  \n",
    "\n",
    "The intruder interrupted once more—he was quite good at that. \"And *I* can think of none better suited to tread so deeply into darkened territory than you, and see to it the job gets done,\" he said satisfactorily.  \n",
    "\n",
    "The man in the chair covered his face in pain. The intruder *was* right, and now all three of them knew it. The woman suddenly looked as if the wind had gone out of her sails. The strange man's words cut through her like a knife, and right to the bone, as they so often did. She *was* being emotional, just as he said, and *indeed*—it *was* her inability to deal with her... *unique* nature that was causing her to remain so thoroughly rattled. She hated how he always did this to her. Why had *she* been cursed with the blessing of existing in two worlds simultaneously? It *was* difficult being the only one of her kind in all of existence. She had none with whom she could relate, and sometimes, *this* was the hardest part.  \n",
    "\n",
    "The green-eyed man thanked the intruder with a nod then continued, \"Listen, I know none of this seems fair... to either one of you. Hell—none of it seems fair to me either. I'm not even sure I *can* do it. The fear alone is...\" His voice faltered. \"The thought itself is paralyzing... but... it *must* be done. This is, after all, just a game. A wicked one... but a game nevertheless. I know what I mean to both of you. To say goodbye *indefinitely* is near unbearable for *me*, especially since it's all just a gamble anyway.\" He paused again. \"Things are so fragile and... unforeseeable, but there's no way around it. *Someone* *has* to at the very least try! We know He will remain too weak, unaware, and forgetful to be of any use at all until *The Connection* has been made. Our only purpose is to ensure he is protected until that time comes.\" He took a deep breath. \"This *has* to end. All of it. All of these unsuspecting people... If we won't do it for the sake of getting the job done, then at least let us persist on their behalf. This *has* to end... It just...\" The green-eyed man's voice broke again with emotion as he remembered the true horror of what they were up against. \"It just... *has* to...\"  \n",
    "\n",
    "The intruder sighed pleasantly. His work was done. As usual, he'd completed his task without putting forth much effort at all. In fact, most of the time his mere presence was all that was necessary. It *had* been a long and arduous road. For ages it seemed he had interfered with the Dark Ones. It often left him isolated, even from his somewhat *mistrusting* allies. They never seemed to listen. They never chose to understand. But what he'd just heard comforted him greatly. The green-eyed man finally understood what was required and, even more, was willing to follow through. The intruder could ask for nothing more. Things must play out as they would.  \n",
    "\n",
    "You see, this was no ordinary man who was even now on his way. This was the *trump card*. The incalculable anomaly, sent to undo all of the evil instituted by *The Game*. *He* was the one they spoke of. The man referenced so frequently in *The Book*. All that remained was to wait for him to arrive, now that the green-eyed man understood his own path.  \n",
    "\n",
    "The woman sighed in frustration. \"I understand *why* such things are necessary. I... I just don't want to lose you. I've witnessed the two of you lose so much and it's heartbreaking enough... I'm not sure I can handle...\" Her voice trailed off until she spoke mainly to herself, \"...Humanity is so... frail...\" she whispered.\n"
   ]
  },
  {
   "cell_type": "code",
   "execution_count": null,
   "id": "395904e7-c898-483b-be4f-adc235c1969f",
   "metadata": {},
   "outputs": [],
   "source": []
  }
 ],
 "metadata": {
  "kernelspec": {
   "display_name": "Python 3 (ipykernel)",
   "language": "python",
   "name": "python3"
  },
  "language_info": {
   "codemirror_mode": {
    "name": "ipython",
    "version": 3
   },
   "file_extension": ".py",
   "mimetype": "text/x-python",
   "name": "python",
   "nbconvert_exporter": "python",
   "pygments_lexer": "ipython3",
   "version": "3.12.5"
  },
  "widgets": {
   "application/vnd.jupyter.widget-state+json": {
    "state": {},
    "version_major": 2,
    "version_minor": 0
   }
  }
 },
 "nbformat": 4,
 "nbformat_minor": 5
}
